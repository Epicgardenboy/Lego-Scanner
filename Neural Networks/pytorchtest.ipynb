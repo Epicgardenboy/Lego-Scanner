{
 "cells": [
  {
   "cell_type": "code",
   "execution_count": 1,
   "metadata": {},
   "outputs": [],
   "source": [
    "import torch\n",
    "import torch.nn as nn\n",
    "import torch.optim as optim\n",
    "from torchvision import transforms, models\n",
    "from torch.utils.data import DataLoader, Dataset\n",
    "from PIL import Image\n",
    "import os\n",
    "import logging"
   ]
  },
  {
   "cell_type": "code",
   "execution_count": 2,
   "metadata": {},
   "outputs": [],
   "source": [
    "# Set up logging\n",
    "logging.basicConfig(level=logging.INFO)\n",
    "logger = logging.getLogger(__name__)\n",
    "\n",
    "class DateDataset(Dataset):\n",
    "    def __init__(self, root_dir, transform=None):\n",
    "        self.root_dir = root_dir\n",
    "        self.transform = transform\n",
    "        self.classes = ['Red', 'White']\n",
    "        self.class_to_idx = {cls: idx for idx, cls in enumerate(self.classes)}\n",
    "        self.images = self._load_images()\n",
    "\n",
    "    def _load_images(self):\n",
    "        images = []\n",
    "        for cls in self.classes:\n",
    "            class_dir = os.path.join(self.root_dir, cls)\n",
    "            if not os.path.exists(class_dir):\n",
    "                logger.warning(f\"Directory not found: {class_dir}\")\n",
    "                continue\n",
    "            for img_name in os.listdir(class_dir):\n",
    "                if img_name.lower().endswith(('.png', '.jpg', '.jpeg')):\n",
    "                    img_path = os.path.join(class_dir, img_name)\n",
    "                    images.append((img_path, self.class_to_idx[cls]))\n",
    "        if not images:\n",
    "            logger.warning(f\"No images found in {self.root_dir}\")\n",
    "        return images\n",
    "\n",
    "    def __len__(self):\n",
    "        return len(self.images)\n",
    "\n",
    "    def __getitem__(self, idx):\n",
    "        img_path, label = self.images[idx]\n",
    "        try:\n",
    "            image = Image.open(img_path).convert('RGB')\n",
    "            if self.transform:\n",
    "                image = self.transform(image)\n",
    "            return image, label, img_path\n",
    "        except Exception as e:\n",
    "            logger.error(f\"Error loading image {img_path}: {str(e)}\")\n",
    "            placeholder_image = torch.zeros((3, 224, 224))\n",
    "            return placeholder_image, label, img_path"
   ]
  },
  {
   "cell_type": "code",
   "execution_count": 3,
   "metadata": {},
   "outputs": [],
   "source": [
    "class EarlyStopping:\n",
    "    def __init__(self, patience=5, min_delta=0):\n",
    "        self.patience = patience\n",
    "        self.min_delta = min_delta\n",
    "        self.counter = 0\n",
    "        self.best_loss = float('inf')\n",
    "        self.early_stop = False\n",
    "\n",
    "    def __call__(self, val_loss):\n",
    "        if val_loss < self.best_loss - self.min_delta:\n",
    "            self.best_loss = val_loss\n",
    "            self.counter = 0\n",
    "        else:\n",
    "            self.counter += 1\n",
    "            if self.counter >= self.patience:\n",
    "                self.early_stop = True"
   ]
  },
  {
   "cell_type": "code",
   "execution_count": 4,
   "metadata": {},
   "outputs": [
    {
     "name": "stdout",
     "output_type": "stream",
     "text": [
      "Using device: mps\n"
     ]
    }
   ],
   "source": [
    "# Set up data transforms\n",
    "data_transforms = transforms.Compose([\n",
    "    transforms.Resize((224, 224)),\n",
    "    transforms.ToTensor(),\n",
    "    transforms.Normalize([0.485, 0.456, 0.406], [0.229, 0.224, 0.225])\n",
    "])\n",
    "\n",
    "# Create datasets\n",
    "train_dataset = DateDataset(root_dir='/Users/williamrae/Desktop/Lego-Scanner/Dataset/Train', transform=data_transforms)\n",
    "test_dataset = DateDataset(root_dir='/Users/williamrae/Desktop/Lego-Scanner/Dataset/Test', transform=data_transforms)\n",
    "\n",
    "# Check if datasets are empty\n",
    "if len(train_dataset) == 0:\n",
    "    raise ValueError(\"Training dataset is empty. Please add images to the 'Train' directory.\")\n",
    "\n",
    "if len(test_dataset) == 0:\n",
    "    logger.warning(\"Test dataset is empty. Evaluation will be skipped.\")\n",
    "\n",
    "# Create dataloaders\n",
    "train_loader = DataLoader(train_dataset, batch_size=32, shuffle=True, num_workers=0)\n",
    "test_loader = DataLoader(test_dataset, batch_size=32, shuffle=False, num_workers=0) if len(test_dataset) > 0 else None\n",
    "\n",
    "# Set up the device\n",
    "device = torch.device(\"mps\" if torch.backends.mps.is_available() else \"cuda\" if torch.cuda.is_available() else \"cpu\")\n",
    "print(f\"Using device: {device}\")\n",
    "\n",
    "# Set up the model\n",
    "model = models.resnet18(pretrained=True)\n",
    "num_ftrs = model.fc.in_features\n",
    "model.fc = nn.Linear(num_ftrs, 2)  # 2 classes: Red and White\n",
    "model = model.to(device)\n",
    "\n",
    "# Set up loss function and optimizer\n",
    "criterion = nn.CrossEntropyLoss()\n",
    "optimizer = optim.Adam(model.parameters(), lr=0.0001)  # Reduced learning rate\n"
   ]
  },
  {
   "cell_type": "code",
   "execution_count": 11,
   "metadata": {},
   "outputs": [
    {
     "name": "stdout",
     "output_type": "stream",
     "text": [
      "Epoch 1/50, Loss: 0.0000\n",
      "Epoch 2/50, Loss: 0.0000\n",
      "Epoch 3/50, Loss: 0.0000\n",
      "Epoch 4/50, Loss: 0.0000\n",
      "Epoch 5/50, Loss: 0.0000\n",
      "Epoch 6/50, Loss: 0.0000\n",
      "Early stopping triggered\n",
      "Model saved successfully.\n"
     ]
    }
   ],
   "source": [
    "# Training loop\n",
    "num_epochs = 50\n",
    "early_stopping = EarlyStopping(patience=5, min_delta=0.001)\n",
    "\n",
    "try:\n",
    "    for epoch in range(num_epochs):\n",
    "        model.train()\n",
    "        running_loss = 0.0\n",
    "        for inputs, labels, _ in train_loader:  # Ignore img_path during training\n",
    "            inputs, labels = inputs.to(device), labels.to(device)\n",
    "            optimizer.zero_grad()\n",
    "            outputs = model(inputs)\n",
    "            loss = criterion(outputs, labels)\n",
    "            loss.backward()\n",
    "            optimizer.step()\n",
    "            running_loss += loss.item() * inputs.size(0)\n",
    "        \n",
    "        epoch_loss = running_loss / len(train_dataset)\n",
    "        print(f\"Epoch {epoch+1}/{num_epochs}, Loss: {epoch_loss:.4f}\")\n",
    "        \n",
    "        # Check for early stopping\n",
    "        early_stopping(epoch_loss)\n",
    "        if early_stopping.early_stop:\n",
    "            print(\"Early stopping triggered\")\n",
    "            break\n",
    "\n",
    "except KeyboardInterrupt:\n",
    "    print(\"Training interrupted by user\")\n",
    "\n",
    "finally:\n",
    "    # Save the model\n",
    "    torch.save(model.state_dict(), \"date_classification_model.pth\")\n",
    "    print(\"Model saved successfully.\")"
   ]
  },
  {
   "cell_type": "code",
   "execution_count": 12,
   "metadata": {},
   "outputs": [
    {
     "name": "stderr",
     "output_type": "stream",
     "text": [
      "INFO:__main__:Incorrectly classified image: /Users/williamrae/Desktop/Lego-Scanner/Dataset/Test/Red/IMG_1779.png\n",
      "INFO:__main__:Incorrectly classified image: /Users/williamrae/Desktop/Lego-Scanner/Dataset/Test/Red/IMG_1786.png\n",
      "INFO:__main__:Incorrectly classified image: /Users/williamrae/Desktop/Lego-Scanner/Dataset/Test/Red/IMG_1787.png\n",
      "INFO:__main__:Incorrectly classified image: /Users/williamrae/Desktop/Lego-Scanner/Dataset/Test/Red/IMG_1778.png\n",
      "INFO:__main__:Incorrectly classified image: /Users/williamrae/Desktop/Lego-Scanner/Dataset/Test/Red/IMG_1785.png\n",
      "INFO:__main__:Incorrectly classified image: /Users/williamrae/Desktop/Lego-Scanner/Dataset/Test/Red/IMG_1790.png\n",
      "INFO:__main__:Incorrectly classified image: /Users/williamrae/Desktop/Lego-Scanner/Dataset/Test/Red/IMG_1784.png\n",
      "INFO:__main__:Incorrectly classified image: /Users/williamrae/Desktop/Lego-Scanner/Dataset/Test/Red/IMG_1780.png\n",
      "INFO:__main__:Incorrectly classified image: /Users/williamrae/Desktop/Lego-Scanner/Dataset/Test/Red/IMG_1781.png\n",
      "INFO:__main__:Incorrectly classified image: /Users/williamrae/Desktop/Lego-Scanner/Dataset/Test/Red/IMG_1768.png\n",
      "INFO:__main__:Incorrectly classified image: /Users/williamrae/Desktop/Lego-Scanner/Dataset/Test/Red/IMG_1783.png\n",
      "INFO:__main__:Incorrectly classified image: /Users/williamrae/Desktop/Lego-Scanner/Dataset/Test/Red/IMG_1782.png\n",
      "INFO:__main__:Incorrectly classified image: /Users/williamrae/Desktop/Lego-Scanner/Dataset/Test/Red/IMG_1769.png\n",
      "INFO:__main__:Incorrectly classified image: /Users/williamrae/Desktop/Lego-Scanner/Dataset/Test/Red/IMG_1770.png\n",
      "INFO:__main__:Incorrectly classified image: /Users/williamrae/Desktop/Lego-Scanner/Dataset/Test/Red/IMG_1764.png\n",
      "INFO:__main__:Incorrectly classified image: /Users/williamrae/Desktop/Lego-Scanner/Dataset/Test/Red/IMG_1765.png\n",
      "INFO:__main__:Incorrectly classified image: /Users/williamrae/Desktop/Lego-Scanner/Dataset/Test/Red/IMG_1771.png\n",
      "INFO:__main__:Incorrectly classified image: /Users/williamrae/Desktop/Lego-Scanner/Dataset/Test/Red/IMG_1759.png\n",
      "INFO:__main__:Incorrectly classified image: /Users/williamrae/Desktop/Lego-Scanner/Dataset/Test/Red/IMG_1767.png\n",
      "INFO:__main__:Incorrectly classified image: /Users/williamrae/Desktop/Lego-Scanner/Dataset/Test/Red/IMG_1773.png\n",
      "INFO:__main__:Incorrectly classified image: /Users/williamrae/Desktop/Lego-Scanner/Dataset/Test/Red/IMG_1772.png\n",
      "INFO:__main__:Incorrectly classified image: /Users/williamrae/Desktop/Lego-Scanner/Dataset/Test/Red/IMG_1766.png\n",
      "INFO:__main__:Incorrectly classified image: /Users/williamrae/Desktop/Lego-Scanner/Dataset/Test/Red/IMG_1762.png\n",
      "INFO:__main__:Incorrectly classified image: /Users/williamrae/Desktop/Lego-Scanner/Dataset/Test/Red/IMG_1776.png\n",
      "INFO:__main__:Incorrectly classified image: /Users/williamrae/Desktop/Lego-Scanner/Dataset/Test/Red/IMG_1789.png\n",
      "INFO:__main__:Incorrectly classified image: /Users/williamrae/Desktop/Lego-Scanner/Dataset/Test/Red/IMG_1788.png\n",
      "INFO:__main__:Incorrectly classified image: /Users/williamrae/Desktop/Lego-Scanner/Dataset/Test/Red/IMG_1777.png\n",
      "INFO:__main__:Incorrectly classified image: /Users/williamrae/Desktop/Lego-Scanner/Dataset/Test/Red/IMG_1763.png\n",
      "INFO:__main__:Incorrectly classified image: /Users/williamrae/Desktop/Lego-Scanner/Dataset/Test/Red/IMG_1775.png\n",
      "INFO:__main__:Incorrectly classified image: /Users/williamrae/Desktop/Lego-Scanner/Dataset/Test/Red/IMG_1761.png\n",
      "INFO:__main__:Incorrectly classified image: /Users/williamrae/Desktop/Lego-Scanner/Dataset/Test/Red/IMG_1760.png\n",
      "INFO:__main__:Incorrectly classified image: /Users/williamrae/Desktop/Lego-Scanner/Dataset/Test/Red/IMG_1774.png\n"
     ]
    },
    {
     "name": "stdout",
     "output_type": "stream",
     "text": [
      "Test Accuracy: 54.29%\n"
     ]
    }
   ],
   "source": [
    "# Evaluation (if test data is available)\n",
    "if test_loader is not None:\n",
    "    model.eval()\n",
    "    correct = 0\n",
    "    total = 0\n",
    "    with torch.no_grad():\n",
    "        for inputs, labels, img_paths in test_loader:\n",
    "            inputs, labels = inputs.to(device), labels.to(device)\n",
    "            outputs = model(inputs)\n",
    "            _, predicted = torch.max(outputs, 1)\n",
    "            total += labels.size(0)\n",
    "            correct += (predicted == labels).sum().item()\n",
    "            \n",
    "            # Log incorrectly classified images\n",
    "            incorrect = predicted != labels\n",
    "            for img_path in [img_paths[i] for i in range(len(img_paths)) if incorrect[i]]:\n",
    "                logger.info(f\"Incorrectly classified image: {img_path}\")\n",
    "\n",
    "    accuracy = 100 * correct / total\n",
    "    print(f\"Test Accuracy: {accuracy:.2f}%\")\n",
    "else:\n",
    "    print(\"Skipping evaluation due to empty test dataset.\")"
   ]
  },
  {
   "cell_type": "code",
   "execution_count": 10,
   "metadata": {},
   "outputs": [
    {
     "name": "stdout",
     "output_type": "stream",
     "text": [
      "Deleted the model file: date_classification_model.pth\n"
     ]
    }
   ],
   "source": [
    "import os\n",
    "\n",
    "# Path to the saved model\n",
    "model_path = \"date_classification_model.pth\"\n",
    "\n",
    "# Check if the model file exists and delete it\n",
    "if os.path.exists(model_path):\n",
    "    os.remove(model_path)\n",
    "    print(f\"Deleted the model file: {model_path}\")\n",
    "else:\n",
    "    print(f\"No model file found at: {model_path}\")"
   ]
  }
 ],
 "metadata": {
  "kernelspec": {
   "display_name": "t.venv",
   "language": "python",
   "name": "python3"
  },
  "language_info": {
   "codemirror_mode": {
    "name": "ipython",
    "version": 3
   },
   "file_extension": ".py",
   "mimetype": "text/x-python",
   "name": "python",
   "nbconvert_exporter": "python",
   "pygments_lexer": "ipython3",
   "version": "3.11.7"
  }
 },
 "nbformat": 4,
 "nbformat_minor": 2
}
